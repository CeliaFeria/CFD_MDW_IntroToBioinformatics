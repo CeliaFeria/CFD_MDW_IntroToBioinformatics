{
 "cells": [
  {
   "cell_type": "markdown",
   "metadata": {},
   "source": [
    "Pruebas Markdown "
   ]
  },
  {
   "cell_type": "markdown",
   "metadata": {},
   "source": [
    "# Títulos y tamaño"
   ]
  },
  {
   "cell_type": "markdown",
   "metadata": {},
   "source": [
    "# Header level 1\n",
    "\n",
    "## Header level 2\n",
    "\n",
    "### Header level 3"
   ]
  },
  {
   "cell_type": "markdown",
   "metadata": {},
   "source": [
    "# Breaks"
   ]
  },
  {
   "cell_type": "markdown",
   "metadata": {},
   "source": [
    "- End a line with two or more spaces and then type enter\n",
    "- También se puede usar el comando <br> después de la primera línea (parece que aquí no funciona)"
   ]
  },
  {
   "cell_type": "markdown",
   "metadata": {},
   "source": [
    "Esta es la primera línea.  \n",
    "Esta es la segunda línea\n",
    "\n",
    "Esta es la primera línea. <br> Esta es la segunda línea "
   ]
  },
  {
   "cell_type": "markdown",
   "metadata": {},
   "source": [
    "# Bold"
   ]
  },
  {
   "cell_type": "markdown",
   "metadata": {},
   "source": [
    "poner texto entre dos *"
   ]
  },
  {
   "cell_type": "markdown",
   "metadata": {},
   "source": [
    "**Bold**"
   ]
  },
  {
   "cell_type": "markdown",
   "metadata": {},
   "source": [
    "# Italic"
   ]
  },
  {
   "cell_type": "markdown",
   "metadata": {},
   "source": [
    "Poner texto entre una *"
   ]
  },
  {
   "cell_type": "markdown",
   "metadata": {},
   "source": [
    "*Italic*"
   ]
  },
  {
   "cell_type": "markdown",
   "metadata": {},
   "source": [
    "# Bold and Italic"
   ]
  },
  {
   "cell_type": "markdown",
   "metadata": {},
   "source": [
    "Poner texto entre tres *"
   ]
  },
  {
   "cell_type": "markdown",
   "metadata": {},
   "source": [
    "***Bold and Italic***"
   ]
  },
  {
   "cell_type": "markdown",
   "metadata": {},
   "source": [
    "# Blockquotes"
   ]
  },
  {
   "cell_type": "markdown",
   "metadata": {},
   "source": [
    "Esto sirve para crear citas. \n",
    "\n",
    "Al principio del texto poner >\n",
    "\n",
    "> Esto es una prueba \n",
    "\n",
    "En caso de ser varias frases las que quieras tener en cuenta, es necesario incluir un > en la línea de separación de las líneas que quieras introducir dentro de blockquote.\n",
    "\n",
    "> Esta sería la primera línea\n",
    ">\n",
    "> Esta es la segunda línea\n",
    "\n",
    "También es posible hacer nested blockquotes, para lo que inlcuyes dos > en la frase que quieras tener nested.\n",
    "\n",
    "> Esta es la primera línea\n",
    ">\n",
    ">> Esta es la línea nested\n",
    "\n",
    "Es posibles usar otros elementos junto al blosckquote, pero no todos funcionan\n",
    "\n",
    "> ***Bold and Italic***\n",
    ">\n",
    "> - Primer punto\n",
    "> - Segundo punto\n",
    "> \n",
    "> ** Everything** is *perfect*\n",
    "\n",
    "Parece que Everything no pasa a ser Bold"
   ]
  },
  {
   "cell_type": "markdown",
   "metadata": {},
   "source": [
    "# Lists"
   ]
  },
  {
   "cell_type": "markdown",
   "metadata": {},
   "source": [
    "Para crear una lista simplemente usas números empezando por el número 1 siempre, después de él la lista no tiene por qué ir en orden. \n",
    "\n",
    "1. Primero\n",
    "2. Otro elemnto de la lista\n",
    "3. Otro más\n",
    "\n",
    "1. Primero \n",
    "8. Otro \n",
    "9. Otro \n",
    "\n",
    "Para crear listas sin orden poner los lemento detras de símbolos como (-), (\\*) o (+)\n",
    "En caso de querer crear una lista dentro de otra lista simplemente tienes que indent el elemento que quieres que esté en segundo plano.\n",
    "\n",
    "* Lista sin orden\n",
    "* Otro elemento \n",
    "* Otra línea más\n",
    "    * Lista dentro de la lista\n",
    "    * Otro elemento de la segunda lista\n",
    "\n",
    "Si quieres introducir elemento dentro de la lista vuelves a realizar un indent con un tab.\n",
    "\n",
    "* Lista\n",
    "* Otra línea\n",
    "    Elemento dentro de este punto de la lista\n",
    "* Deshaciendo 4 espacios volvemos a la lista\n",
    "\n"
   ]
  }
 ],
 "metadata": {
  "kernelspec": {
   "display_name": "Bash",
   "language": "bash",
   "name": "bash"
  },
  "language_info": {
   "codemirror_mode": "shell",
   "file_extension": ".sh",
   "mimetype": "text/x-sh",
   "name": "bash"
  }
 },
 "nbformat": 4,
 "nbformat_minor": 2
}
